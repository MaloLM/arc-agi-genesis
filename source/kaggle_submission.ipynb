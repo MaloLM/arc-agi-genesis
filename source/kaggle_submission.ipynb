{
 "cells": [
  {
   "cell_type": "markdown",
   "id": "d9137ad5-2ae4-4ba1-84f7-29c4e7e832bb",
   "metadata": {},
   "source": [
    "# Kaggle Solution Submission With Module Import"
   ]
  },
  {
   "cell_type": "markdown",
   "id": "09f9ac8b-f6e4-42a8-b116-ed1a30e7a361",
   "metadata": {},
   "source": [
    "## How to import to Kaggle ?\n",
    "\n",
    "### Import this notebook\n",
    "\n",
    "1. Go to [Kaggle](https://www.kaggle.com)\n",
    "2. Create a new notebook inside the [ARC-AGI contest](https://www.kaggle.com/competitions/arc-prize-2024/code)\n",
    "3. Inside the notebook edit: go To `File`/`Import notebook`\n",
    "4. Drag and drop this notebook file (.ipynb)\n",
    "\n",
    "### Import the modules as a dataset\n",
    "5. In the input section, click `Upload` -> `New Dataset`\n",
    "6. Drag and drop the abstract_and_reason directory from this project (notebook name should match the bellow cell `solution_name`)\n",
    "\n",
    "![TBD](../data/docs/kaggle_dataset.png)\n",
    "\n",
    "7. Create the dataset"
   ]
  },
  {
   "cell_type": "code",
   "execution_count": 1,
   "id": "4fa5b8c0",
   "metadata": {
    "papermill": {
     "duration": 0.024359,
     "end_time": "2024-08-27T16:43:18.450008",
     "exception": false,
     "start_time": "2024-08-27T16:43:18.425649",
     "status": "completed"
    },
    "tags": []
   },
   "outputs": [],
   "source": [
    "import json\n",
    "from tqdm import tqdm\n",
    "import json\n",
    "import sys\n",
    "\n",
    "# Add the package directory to Python's sys.path\n",
    "solution_name = 'solution' # same name as the dataset\n",
    "sys.path.append(f'/kaggle/input/{solution_name}/')\n",
    "\n",
    "# Import your custom package or module\n",
    "from abstract_and_reason import solver_v1\n",
    "from abstract_and_reason.assets import load_json\n",
    "from abstract_and_reason.assets import sort_challenges_by_size"
   ]
  },
  {
   "cell_type": "markdown",
   "id": "03b8d043-e423-4715-81ac-4bb670bf7aa9",
   "metadata": {},
   "source": [
    "🚨🚨🚨 Make sure Prod=True bellow (default=False)🚨🚨🚨"
   ]
  },
  {
   "cell_type": "markdown",
   "id": "1c96df2a-b239-479f-a928-63fed1e8a620",
   "metadata": {},
   "source": [
    "## Initialization"
   ]
  },
  {
   "cell_type": "code",
   "execution_count": 6,
   "id": "cbc36bfa",
   "metadata": {
    "_cell_guid": "b1076dfc-b9ad-4769-8c92-a6c4dae69d19",
    "_uuid": "8f2839f25d086af736a60e9eeb907d3b93b6e0e5",
    "papermill": {
     "duration": 0.040667,
     "end_time": "2024-08-27T16:43:18.534099",
     "exception": false,
     "start_time": "2024-08-27T16:43:18.493432",
     "status": "completed"
    },
    "tags": []
   },
   "outputs": [],
   "source": [
    "# Initialize solver\n",
    "anr = solver_v1.Solver(prod=True)\n",
    "\n",
    "# Reading files\n",
    "base_path = '/kaggle/input/arc-prize-2024/' # path may change in 2025 arc-prize\n",
    "test_challenges = load_json(base_path +'arc-agi_test_challenges.json')\n",
    "submission_file_path = '/kaggle/working/submission.json'\n",
    "sample_submission_file_path = base_path + 'sample_submission.json'\n",
    "sample_submission = load_json(sample_submission_file_path)"
   ]
  },
  {
   "cell_type": "code",
   "execution_count": 8,
   "id": "bcb81785",
   "metadata": {
    "papermill": {
     "duration": 0.019354,
     "end_time": "2024-08-27T16:43:18.556380",
     "exception": false,
     "start_time": "2024-08-27T16:43:18.537026",
     "status": "completed"
    },
    "tags": []
   },
   "outputs": [
    {
     "ename": "FileNotFoundError",
     "evalue": "[Errno 2] No such file or directory: '/kaggle/working/submission.json'",
     "output_type": "error",
     "traceback": [
      "\u001b[0;31m---------------------------------------------------------------------------\u001b[0m",
      "\u001b[0;31mFileNotFoundError\u001b[0m                         Traceback (most recent call last)",
      "Cell \u001b[0;32mIn[8], line 8\u001b[0m\n\u001b[1;32m      5\u001b[0m     sample_submission \u001b[38;5;241m=\u001b[39m {}\n\u001b[1;32m      7\u001b[0m \u001b[38;5;28;01mif\u001b[39;00m \u001b[38;5;129;01mnot\u001b[39;00m os\u001b[38;5;241m.\u001b[39mpath\u001b[38;5;241m.\u001b[39mexists(submission_file_path):\n\u001b[0;32m----> 8\u001b[0m     \u001b[38;5;28;01mwith\u001b[39;00m \u001b[38;5;28;43mopen\u001b[39;49m\u001b[43m(\u001b[49m\u001b[43msubmission_file_path\u001b[49m\u001b[43m,\u001b[49m\u001b[43m \u001b[49m\u001b[38;5;124;43m\"\u001b[39;49m\u001b[38;5;124;43mw\u001b[39;49m\u001b[38;5;124;43m\"\u001b[39;49m\u001b[43m)\u001b[49m \u001b[38;5;28;01mas\u001b[39;00m file:\n\u001b[1;32m      9\u001b[0m         json\u001b[38;5;241m.\u001b[39mdump(sample_submission, file, indent\u001b[38;5;241m=\u001b[39m\u001b[38;5;241m4\u001b[39m)\n",
      "File \u001b[0;32m~/Documents/projets/_informatique/jupyter/python-dev-env/lib/python3.10/site-packages/IPython/core/interactiveshell.py:324\u001b[0m, in \u001b[0;36m_modified_open\u001b[0;34m(file, *args, **kwargs)\u001b[0m\n\u001b[1;32m    317\u001b[0m \u001b[38;5;28;01mif\u001b[39;00m file \u001b[38;5;129;01min\u001b[39;00m {\u001b[38;5;241m0\u001b[39m, \u001b[38;5;241m1\u001b[39m, \u001b[38;5;241m2\u001b[39m}:\n\u001b[1;32m    318\u001b[0m     \u001b[38;5;28;01mraise\u001b[39;00m \u001b[38;5;167;01mValueError\u001b[39;00m(\n\u001b[1;32m    319\u001b[0m         \u001b[38;5;124mf\u001b[39m\u001b[38;5;124m\"\u001b[39m\u001b[38;5;124mIPython won\u001b[39m\u001b[38;5;124m'\u001b[39m\u001b[38;5;124mt let you open fd=\u001b[39m\u001b[38;5;132;01m{\u001b[39;00mfile\u001b[38;5;132;01m}\u001b[39;00m\u001b[38;5;124m by default \u001b[39m\u001b[38;5;124m\"\u001b[39m\n\u001b[1;32m    320\u001b[0m         \u001b[38;5;124m\"\u001b[39m\u001b[38;5;124mas it is likely to crash IPython. If you know what you are doing, \u001b[39m\u001b[38;5;124m\"\u001b[39m\n\u001b[1;32m    321\u001b[0m         \u001b[38;5;124m\"\u001b[39m\u001b[38;5;124myou can use builtins\u001b[39m\u001b[38;5;124m'\u001b[39m\u001b[38;5;124m open.\u001b[39m\u001b[38;5;124m\"\u001b[39m\n\u001b[1;32m    322\u001b[0m     )\n\u001b[0;32m--> 324\u001b[0m \u001b[38;5;28;01mreturn\u001b[39;00m \u001b[43mio_open\u001b[49m\u001b[43m(\u001b[49m\u001b[43mfile\u001b[49m\u001b[43m,\u001b[49m\u001b[43m \u001b[49m\u001b[38;5;241;43m*\u001b[39;49m\u001b[43margs\u001b[49m\u001b[43m,\u001b[49m\u001b[43m \u001b[49m\u001b[38;5;241;43m*\u001b[39;49m\u001b[38;5;241;43m*\u001b[39;49m\u001b[43mkwargs\u001b[49m\u001b[43m)\u001b[49m\n",
      "\u001b[0;31mFileNotFoundError\u001b[0m: [Errno 2] No such file or directory: '/kaggle/working/submission.json'"
     ]
    }
   ],
   "source": [
    "sample_submission = load_json(sample_submission_file_path)\n",
    "\n",
    "with open(submission_file_path, \"w\") as file:\n",
    "        json.dump(sample_submission, file, indent=4)"
   ]
  },
  {
   "cell_type": "markdown",
   "id": "ef42dc59-7e40-4bda-8343-c20942f56835",
   "metadata": {},
   "source": [
    "## Challenges execution and submission"
   ]
  },
  {
   "cell_type": "code",
   "execution_count": 6,
   "id": "fe375474",
   "metadata": {
    "execution": {
     "iopub.execute_input": "2024-08-27T16:43:18.852126Z",
     "iopub.status.busy": "2024-08-27T16:43:18.851635Z",
     "iopub.status.idle": "2024-08-27T16:43:21.191943Z",
     "shell.execute_reply": "2024-08-27T16:43:21.190373Z"
    },
    "papermill": {
     "duration": 2.347587,
     "end_time": "2024-08-27T16:43:21.194682",
     "exception": false,
     "start_time": "2024-08-27T16:43:18.847095",
     "status": "completed"
    },
    "tags": []
   },
   "outputs": [
    {
     "name": "stderr",
     "output_type": "stream",
     "text": [
      "100%|██████████| 100/100 [00:02<00:00, 43.14it/s]\n"
     ]
    }
   ],
   "source": [
    "with open(submission_file_path, \"r+\") as outfile:\n",
    "    submission_data = json.load(outfile)\n",
    "\n",
    "    ids_test = sort_challenges_by_size(test_challenges)\n",
    "\n",
    "    for i, challenge_id in enumerate(tqdm(ids_test)):\n",
    "        puzzle_ins_train, puzzle_outs_train, puzzle_ins_test, puzzle_outs_test = anr.process_challenge(challenge_id, test_challenges)\n",
    "        \n",
    "        attempt1 = anr.predict(puzzle_ins_train, puzzle_outs_train, puzzle_ins_test)\n",
    "        attempt2 = anr.predict(puzzle_ins_train, puzzle_outs_train, puzzle_ins_test)\n",
    "        \n",
    "        result = []\n",
    "        for j in range(len(attempt1)):\n",
    "            result.append({\n",
    "                'attempt_1': attempt1[j].tolist(),\n",
    "                'attempt_2': attempt2[j].tolist()\n",
    "            })\n",
    "        \n",
    "        submission_data[challenge_id] = result\n",
    "        \n",
    "        outfile.seek(0)\n",
    "        json.dump(submission_data, outfile, indent=4)\n",
    "        outfile.truncate()"
   ]
  },
  {
   "cell_type": "markdown",
   "id": "b79fe7ce-e89a-431a-80c9-87dbe93f6252",
   "metadata": {},
   "source": [
    "### 💡 Save Yourself the Headache! 💡\n",
    "\n",
    "I've made the mistakes so you don't have to! Now, you'll save tons of time working on ARC-AGI. \n",
    "\n",
    "If this notebook helped you avoid common pitfalls or sped up your progress, I'd love your support!\n",
    "\n",
    "- **Follow me on Kaggle:** [Malo Le Mestre](https://www.kaggle.com/malolem)\n",
    "- **Leave a ⭐ on the GitHub repo** [here](https://github.com/MaloLM/arc-agi-genesis) to show your appreciation and keep the project growing!\n",
    "- **Upvote this notebook** on Kaggle if it saved you from banging your head against the wall!\n",
    "\n",
    "Your feedback keeps me motivated and helps others avoid the same challenges. \n",
    "\n",
    "# Thank you! 🚀✨"
   ]
  }
 ],
 "metadata": {
  "kaggle": {
   "accelerator": "none",
   "dataSources": [
    {
     "databundleVersionId": 8951125,
     "sourceId": 67357,
     "sourceType": "competition"
    },
    {
     "datasetId": 5603181,
     "sourceId": 9260358,
     "sourceType": "datasetVersion"
    }
   ],
   "dockerImageVersionId": 30761,
   "isGpuEnabled": false,
   "isInternetEnabled": false,
   "language": "python",
   "sourceType": "notebook"
  },
  "kernelspec": {
   "display_name": "Python 3 (ipykernel)",
   "language": "python",
   "name": "python3"
  },
  "language_info": {
   "codemirror_mode": {
    "name": "ipython",
    "version": 3
   },
   "file_extension": ".py",
   "mimetype": "text/x-python",
   "name": "python",
   "nbconvert_exporter": "python",
   "pygments_lexer": "ipython3",
   "version": "3.10.11"
  },
  "papermill": {
   "default_parameters": {},
   "duration": 6.069538,
   "end_time": "2024-08-27T16:43:21.619583",
   "environment_variables": {},
   "exception": null,
   "input_path": "__notebook__.ipynb",
   "output_path": "__notebook__.ipynb",
   "parameters": {},
   "start_time": "2024-08-27T16:43:15.550045",
   "version": "2.6.0"
  }
 },
 "nbformat": 4,
 "nbformat_minor": 5
}
