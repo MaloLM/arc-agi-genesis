{
 "cells": [
  {
   "cell_type": "markdown",
   "id": "9847519d-c8a4-4879-9ba2-ae1e617adb0b",
   "metadata": {},
   "source": [
    "# Tiny ARC\n",
    "\n",
    "This notebook focuses on solving small-scale puzzles from the ARC (Abstraction and Reasoning Corpus) dataset, allowing you to test your solution (`solver_v1`) on simpler, less computationally demanding challenges. Working on small examples helps build a solid foundation before scaling up to larger and more complex grids (such as 30x30).\n",
    "\n",
    "The `get_tiny_arc()` function selects challenges based on grid dimensions, filtering puzzles by their width (`n`) and height (`m`). You can choose between the training or evaluation set and set constraints to only work on grids that fall within a manageable size range.\n",
    "\n",
    "### Key Features:\n",
    "- **Select challenges by size**: Work on grids that are easier to compute by filtering based on width (`n`) and height (`m`).\n",
    "- **Test your solver**: Import and test your solution in a controlled environment with simpler challenges before scaling up to more complex tasks.\n"
   ]
  },
  {
   "cell_type": "code",
   "execution_count": 1,
   "id": "1c688388-6c8e-4254-b66d-9575819f0997",
   "metadata": {},
   "outputs": [],
   "source": [
    "import random\n",
    "from abstract_and_reason import solver_v1"
   ]
  },
  {
   "cell_type": "code",
   "execution_count": 2,
   "id": "ac65fc26-edfe-4390-ba19-d0c6fbc74e07",
   "metadata": {},
   "outputs": [],
   "source": [
    "anr = solver_v1.Solver()\n",
    "\n",
    "### Choose between training and evalutation set (commented)\n",
    "\n",
    "challenges = anr.training_challenges # anr.evaluation_challenges\n",
    "solutions = anr.training_solutions # anr.evaluation_solutions\n",
    "\n",
    "def get_tiny_arc(challenges, solutions, max_n, max_m):\n",
    "    \"\"\"\n",
    "    Selects challenges from the ARC dataset based on grid size.\n",
    "\n",
    "    This function filters and returns a list of challenge IDs where the average size of the input and output grids \n",
    "    (width and height) is less than or equal to the specified maximum grid dimensions (max_n x max_m).\n",
    "\n",
    "    Args:\n",
    "        challenges (dict): A dictionary containing ARC challenges, either from the training or evaluation set.\n",
    "        solutions (dict): A dictionary containing corresponding solutions to the challenges.\n",
    "        max_n (int): The maximum allowed width (n) for a grid.\n",
    "        max_m (int): The maximum allowed height (m) for a grid.\n",
    "\n",
    "    Returns:\n",
    "        list: A list of challenge IDs that meet the size constraints.\n",
    "    \"\"\"\n",
    "    ids = list(challenges)\n",
    "    ids_sizes = []\n",
    "    \n",
    "    for challenge_id in ids:\n",
    "        input_mean = 0\n",
    "        output_mean = 0\n",
    "        nb_example = 0\n",
    "        \n",
    "        for challenge in challenges[challenge_id]['train']:\n",
    "            input_size = sum(len(obj) for obj in challenge['input']) * len(challenge['input'])\n",
    "            output_size = sum(len(obj) for obj in challenge['output']) * len(challenge['output'])\n",
    "            \n",
    "            input_mean += input_size\n",
    "            output_mean += output_size\n",
    "            \n",
    "            nb_example += 1\n",
    "        \n",
    "        input_mean /= nb_example\n",
    "        output_mean /= nb_example\n",
    "        \n",
    "        if input_mean <= max_n**2 and output_mean <= max_m**2:\n",
    "            ids_sizes.append(challenge_id)\n",
    "    \n",
    "    return ids_sizes\n"
   ]
  },
  {
   "cell_type": "code",
   "execution_count": 3,
   "id": "ac885ab3-65ed-420f-856e-955fbc9baa87",
   "metadata": {},
   "outputs": [
    {
     "name": "stdout",
     "output_type": "stream",
     "text": [
      "Small challenges set contains 26 challenges\n"
     ]
    }
   ],
   "source": [
    "smol_challenges = get_tiny_arc(challenges, solutions, max_n=8, max_m=8)\n",
    "\n",
    "print(f\"Small challenges set contains {len(smol_challenges)} challenges\")"
   ]
  },
  {
   "cell_type": "markdown",
   "id": "d383249b-ca14-4786-84ec-a4f7c7517b1a",
   "metadata": {},
   "source": [
    "## Display a random small challenge"
   ]
  },
  {
   "cell_type": "code",
   "execution_count": 4,
   "id": "e3f58722-0a45-4354-9758-13674ca0105b",
   "metadata": {},
   "outputs": [
    {
     "data": {
      "image/png": "[encoded data removed]",
      "text/plain": [
       "<Figure size 1400x600 with 8 Axes>"
      ]
     },
     "metadata": {},
     "output_type": "display_data"
    }
   ],
   "source": [
    "random_id = random.choice(smol_challenges)\n",
    "\n",
    "puzzle_inps_train, puzzle_outs_train, puzzle_inps_test, puzzle_outs_test = anr.process_challenge(random_id, challenges, solutions)\n",
    "anr.display_task(random_id, puzzle_inps_train, puzzle_outs_train, puzzle_inps_test, puzzle_outs_test)"
   ]
  }
 ],
 "metadata": {
  "kernelspec": {
   "display_name": "Python 3 (ipykernel)",
   "language": "python",
   "name": "python3"
  },
  "language_info": {
   "codemirror_mode": {
    "name": "ipython",
    "version": 3
   },
   "file_extension": ".py",
   "mimetype": "text/x-python",
   "name": "python",
   "nbconvert_exporter": "python",
   "pygments_lexer": "ipython3",
   "version": "3.10.11"
  }
 },
 "nbformat": 4,
 "nbformat_minor": 5
}
