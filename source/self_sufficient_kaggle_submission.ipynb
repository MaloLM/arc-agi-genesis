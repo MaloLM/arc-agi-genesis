{
 "cells": [
  {
   "cell_type": "code",
   "execution_count": 1,
   "id": "4fa5b8c0",
   "metadata": {
    "papermill": {
     "duration": 0.024359,
     "end_time": "2024-08-27T16:43:18.450008",
     "exception": false,
     "start_time": "2024-08-27T16:43:18.425649",
     "status": "completed"
    },
    "tags": []
   },
   "outputs": [],
   "source": [
    "import json\n",
    "import numpy as np\n",
    "from tqdm import tqdm\n",
    "import json\n",
    "import os\n",
    "\n",
    "# Step 2: Add the package directory to Python's sys.path\n",
    "import sys\n",
    "solution_name = 'solution'\n",
    "sys.path.append(f'/kaggle/input/{solution_name}/')\n",
    "\n",
    "# Step 3: Import your custom package or module"
   ]
  },
  {
   "cell_type": "code",
   "execution_count": 2,
   "id": "3d8b8fd2",
   "metadata": {
    "papermill": {
     "duration": 0.037349,
     "end_time": "2024-08-27T16:43:18.490607",
     "exception": false,
     "start_time": "2024-08-27T16:43:18.453258",
     "status": "completed"
    },
    "tags": []
   },
   "outputs": [],
   "source": [
    "from abstract_and_reason import solver_v1"
   ]
  },
  {
   "cell_type": "code",
   "execution_count": 3,
   "id": "cbc36bfa",
   "metadata": {
    "_cell_guid": "b1076dfc-b9ad-4769-8c92-a6c4dae69d19",
    "_uuid": "8f2839f25d086af736a60e9eeb907d3b93b6e0e5",
    "execution": {
     "iopub.execute_input": "2024-08-27T16:43:18.497999Z",
     "iopub.status.busy": "2024-08-27T16:43:18.497463Z",
     "iopub.status.idle": "2024-08-27T16:43:18.531383Z",
     "shell.execute_reply": "2024-08-27T16:43:18.530210Z"
    },
    "papermill": {
     "duration": 0.040667,
     "end_time": "2024-08-27T16:43:18.534099",
     "exception": false,
     "start_time": "2024-08-27T16:43:18.493432",
     "status": "completed"
    },
    "tags": []
   },
   "outputs": [],
   "source": [
    "base_path = '/kaggle/input/arc-prize-2024/'\n",
    "\n",
    "# Loading JSON data\n",
    "def load_json(file_path):\n",
    "    with open(file_path) as f:\n",
    "        data = json.load(f)\n",
    "    return data\n",
    "\n",
    "# Reading files\n",
    "test_challenges = load_json(base_path +'arc-agi_test_challenges.json')\n",
    "submission_file_path = '/kaggle/working/submission.json'\n",
    "sample_submission_file_path = base_path + 'sample_submission.json'\n",
    "sample_submission = load_json(sample_submission_file_path)"
   ]
  },
  {
   "cell_type": "code",
   "execution_count": 4,
   "id": "bcb81785",
   "metadata": {
    "execution": {
     "iopub.execute_input": "2024-08-27T16:43:18.541526Z",
     "iopub.status.busy": "2024-08-27T16:43:18.541110Z",
     "iopub.status.idle": "2024-08-27T16:43:18.553555Z",
     "shell.execute_reply": "2024-08-27T16:43:18.552331Z"
    },
    "papermill": {
     "duration": 0.019354,
     "end_time": "2024-08-27T16:43:18.556380",
     "exception": false,
     "start_time": "2024-08-27T16:43:18.537026",
     "status": "completed"
    },
    "tags": []
   },
   "outputs": [],
   "source": [
    "# Ensure the submission file exists or create an empty one\n",
    "if os.path.exists(sample_submission_file_path):\n",
    "    sample_submission = load_json(sample_submission_file_path)\n",
    "else:\n",
    "    sample_submission = {}\n",
    "\n",
    "if not os.path.exists(submission_file_path):\n",
    "    with open(submission_file_path, \"w\") as file:\n",
    "        json.dump(sample_submission, file, indent=4)"
   ]
  },
  {
   "cell_type": "code",
   "execution_count": 5,
   "id": "0ee79d01",
   "metadata": {
    "execution": {
     "iopub.execute_input": "2024-08-27T16:43:18.563741Z",
     "iopub.status.busy": "2024-08-27T16:43:18.563296Z",
     "iopub.status.idle": "2024-08-27T16:43:18.839339Z",
     "shell.execute_reply": "2024-08-27T16:43:18.837906Z"
    },
    "papermill": {
     "duration": 0.283106,
     "end_time": "2024-08-27T16:43:18.842285",
     "exception": false,
     "start_time": "2024-08-27T16:43:18.559179",
     "status": "completed"
    },
    "tags": []
   },
   "outputs": [],
   "source": [
    "# Initialize solver\n",
    "anr = solver_v1.Solver(prod=True)"
   ]
  },
  {
   "cell_type": "code",
   "execution_count": 6,
   "id": "fe375474",
   "metadata": {
    "execution": {
     "iopub.execute_input": "2024-08-27T16:43:18.852126Z",
     "iopub.status.busy": "2024-08-27T16:43:18.851635Z",
     "iopub.status.idle": "2024-08-27T16:43:21.191943Z",
     "shell.execute_reply": "2024-08-27T16:43:21.190373Z"
    },
    "papermill": {
     "duration": 2.347587,
     "end_time": "2024-08-27T16:43:21.194682",
     "exception": false,
     "start_time": "2024-08-27T16:43:18.847095",
     "status": "completed"
    },
    "tags": []
   },
   "outputs": [
    {
     "name": "stderr",
     "output_type": "stream",
     "text": [
      "100%|██████████| 100/100 [00:02<00:00, 43.14it/s]\n"
     ]
    }
   ],
   "source": [
    "# Open the submission file for reading and updating\n",
    "with open(submission_file_path, \"r+\") as outfile:\n",
    "    # Load existing data from submission.json\n",
    "    submission_data = json.load(outfile)\n",
    "    \n",
    "    ids_test = list(test_challenges)\n",
    "\n",
    "    # Process each challenge and update submission_data\n",
    "    for i, challenge_id in enumerate(tqdm(ids_test)):\n",
    "        puzzle_ins_train, puzzle_outs_train, puzzle_ins_test, puzzle_outs_test = anr.process_challenge(challenge_id, test_challenges)\n",
    "        \n",
    "        # Predict the attempts\n",
    "        attempt1 = anr.predict(puzzle_ins_train, puzzle_outs_train, puzzle_ins_test)\n",
    "        attempt2 = anr.predict(puzzle_ins_train, puzzle_outs_train, puzzle_ins_test)\n",
    "        \n",
    "        # Prepare the data to be written\n",
    "        result = []\n",
    "        for j in range(len(attempt1)):\n",
    "            result.append({\n",
    "                'attempt_1': attempt1[j].tolist(),\n",
    "                'attempt_2': attempt2[j].tolist()\n",
    "            })\n",
    "        \n",
    "        # Update submission_data in memory\n",
    "        submission_data[challenge_id] = result\n",
    "        \n",
    "        # Write updated submission_data back to the file\n",
    "        outfile.seek(0)  # Go to the beginning of the file\n",
    "        json.dump(submission_data, outfile, indent=4)\n",
    "        outfile.truncate()  # Remove any leftover data after the current position"
   ]
  }
 ],
 "metadata": {
  "kaggle": {
   "accelerator": "none",
   "dataSources": [
    {
     "databundleVersionId": 8951125,
     "sourceId": 67357,
     "sourceType": "competition"
    },
    {
     "datasetId": 5603181,
     "sourceId": 9260358,
     "sourceType": "datasetVersion"
    }
   ],
   "dockerImageVersionId": 30761,
   "isGpuEnabled": false,
   "isInternetEnabled": false,
   "language": "python",
   "sourceType": "notebook"
  },
  "kernelspec": {
   "display_name": "Python 3 (ipykernel)",
   "language": "python",
   "name": "python3"
  },
  "language_info": {
   "codemirror_mode": {
    "name": "ipython",
    "version": 3
   },
   "file_extension": ".py",
   "mimetype": "text/x-python",
   "name": "python",
   "nbconvert_exporter": "python",
   "pygments_lexer": "ipython3",
   "version": "3.10.11"
  },
  "papermill": {
   "default_parameters": {},
   "duration": 6.069538,
   "end_time": "2024-08-27T16:43:21.619583",
   "environment_variables": {},
   "exception": null,
   "input_path": "__notebook__.ipynb",
   "output_path": "__notebook__.ipynb",
   "parameters": {},
   "start_time": "2024-08-27T16:43:15.550045",
   "version": "2.6.0"
  }
 },
 "nbformat": 4,
 "nbformat_minor": 5
}
